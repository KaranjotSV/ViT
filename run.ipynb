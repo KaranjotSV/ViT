{
 "cells": [
  {
   "cell_type": "code",
   "execution_count": 3,
   "id": "72b255d7",
   "metadata": {},
   "outputs": [],
   "source": [
    "from model import create_ViT, run"
   ]
  },
  {
   "cell_type": "code",
   "execution_count": 4,
   "id": "dba2dea5",
   "metadata": {},
   "outputs": [],
   "source": [
    "vit = create_ViT(regular=True)\n",
    "# history = run(vit)\n",
    "\n",
    "vit_sl = create_ViT(regular=False)\n",
    "# history = run(vit_sl)"
   ]
  },
  {
   "cell_type": "code",
   "execution_count": null,
   "id": "e70e3340",
   "metadata": {},
   "outputs": [],
   "source": []
  }
 ],
 "metadata": {
  "kernelspec": {
   "display_name": "Miscellaneous",
   "language": "python",
   "name": "miscellaneous"
  },
  "language_info": {
   "codemirror_mode": {
    "name": "ipython",
    "version": 3
   },
   "file_extension": ".py",
   "mimetype": "text/x-python",
   "name": "python",
   "nbconvert_exporter": "python",
   "pygments_lexer": "ipython3",
   "version": "3.8.11"
  }
 },
 "nbformat": 4,
 "nbformat_minor": 5
}
